{
 "cells": [
  {
   "cell_type": "code",
   "execution_count": null,
   "id": "1b012763",
   "metadata": {},
   "outputs": [],
   "source": [
    "# Step 1: Import Libraries\n",
    "import pandas as pd\n",
    "import numpy as np\n",
    "import matplotlib.pyplot as plt\n",
    "import seaborn as sns\n",
    "from sklearn.metrics import accuracy_score, roc_auc_score, classification_report, confusion_matrix\n",
    "import seaborn as sns\n",
    "import matplotlib.pyplot as plt\n",
    "\n",
    "from sklearn.model_selection import train_test_split\n",
    "from sklearn.preprocessing import StandardScaler\n",
    "from sklearn.linear_model import LogisticRegression\n",
    "from sklearn.ensemble import RandomForestClassifier\n",
    "\n",
    "from sklearn.metrics import classification_report, confusion_matrix, roc_auc_score, accuracy_score\n",
    "from imblearn.over_sampling import SMOTE\n",
    "import pickle\n"
   ]
  },
  {
   "cell_type": "code",
   "execution_count": null,
   "id": "548f9bf5",
   "metadata": {},
   "outputs": [],
   "source": [
    "# Step 2: Load Dataset\n",
    "df = pd.read_csv(\"creditcard.csv\")  # Download from Kaggle and keep in the same folder\n",
    "df.head()\n",
    "# Step 3: Basic Info\n",
    "df.info()\n",
    "df['Class'].value_counts()  # 0 = legit, 1 = fraud\n"
   ]
  },
  {
   "cell_type": "code",
   "execution_count": null,
   "id": "8281906f",
   "metadata": {},
   "outputs": [],
   "source": [
    "# Check imbalance\n",
    "sns.countplot(x='Class', data=df)\n",
    "plt.title(\"Class Distribution\")\n",
    "plt.show()\n"
   ]
  },
  {
   "cell_type": "code",
   "execution_count": null,
   "id": "77824698",
   "metadata": {},
   "outputs": [],
   "source": [
    "# Step 4: Preprocessing\n",
    "\n",
    "# Scale only the 'Amount' column\n",
    "scaler = StandardScaler()\n",
    "df['scaled_amount'] = scaler.fit_transform(df[['Amount']])\n",
    "\n",
    "# Drop unneeded columns\n",
    "df.drop(['Time', 'Amount'], axis=1, inplace=True)\n",
    "\n",
    "# Define features and target\n",
    "X = df.drop('Class', axis=1)\n",
    "y = df['Class']\n"
   ]
  },
  {
   "cell_type": "code",
   "execution_count": null,
   "id": "beb6f708",
   "metadata": {},
   "outputs": [],
   "source": [
    "# Step 5: Train-Test Split\n",
    "X_train, X_test, y_train, y_test = train_test_split(X, y, test_size=0.2, random_state=42)\n"
   ]
  },
  {
   "cell_type": "code",
   "execution_count": null,
   "id": "f81d847a",
   "metadata": {},
   "outputs": [],
   "source": [
    "# Step 6: Handle Imbalanced Data with SMOTE\n",
    "sm = SMOTE(random_state=42)\n",
    "X_res, y_res = sm.fit_resample(X_train, y_train)\n",
    "\n",
    "print(\"Before SMOTE:\", y_train.value_counts())\n",
    "print(\"After SMOTE:\", y_res.value_counts())\n"
   ]
  },
  {
   "cell_type": "code",
   "execution_count": null,
   "id": "ac4fcdbd",
   "metadata": {},
   "outputs": [],
   "source": [
    "# Step 7: Model Training\n",
    "model = RandomForestClassifier(n_estimators=100, random_state=42)\n",
    "model.fit(X_res, y_res)\n"
   ]
  },
  {
   "cell_type": "code",
   "execution_count": null,
   "id": "ea480f4f",
   "metadata": {},
   "outputs": [],
   "source": [
    "# Combine X_test and y_test to remove rows where y_test is NaN\n",
    "X_test_clean = X_test[~y_test.isna()]\n",
    "y_test_clean = y_test[~y_test.isna()]\n"
   ]
  },
  {
   "cell_type": "code",
   "execution_count": null,
   "id": "b25330f1",
   "metadata": {},
   "outputs": [],
   "source": [
    "# Predict on cleaned data\n",
    "y_pred = model.predict(X_test_clean)\n",
    "\n",
    "# Evaluation\n",
    "print(\"Accuracy:\", accuracy_score(y_test_clean, y_pred))\n",
    "print(\"ROC-AUC:\", roc_auc_score(y_test_clean, y_pred))\n",
    "print(\"Classification Report:\\n\", classification_report(y_test_clean, y_pred))\n",
    "\n",
    "# Confusion Matrix\n",
    "cm = confusion_matrix(y_test_clean, y_pred)\n",
    "sns.heatmap(cm, annot=True, fmt=\"d\", cmap=\"Blues\")\n",
    "plt.xlabel(\"Predicted\")\n",
    "plt.ylabel(\"Actual\")\n",
    "plt.title(\"Confusion Matrix\")\n",
    "plt.show()\n"
   ]
  },
  {
   "cell_type": "code",
   "execution_count": null,
   "id": "9e86b8ad",
   "metadata": {},
   "outputs": [],
   "source": [
    "\n",
    "\n",
    "# assuming `model` is your trained model object\n",
    "with open(\"model.pkl\", \"wb\") as f:\n",
    "    pickle.dump(model, f)\n"
   ]
  }
 ],
 "metadata": {
  "language_info": {
   "name": "python"
  }
 },
 "nbformat": 4,
 "nbformat_minor": 5
}
